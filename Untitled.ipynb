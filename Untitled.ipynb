{
 "cells": [
  {
   "cell_type": "code",
   "execution_count": 1,
   "id": "c392557c-4bab-4be1-a9bd-cf5e4e8f252e",
   "metadata": {},
   "outputs": [
    {
     "name": "stdout",
     "output_type": "stream",
     "text": [
      "Hello World\n"
     ]
    }
   ],
   "source": [
    "print(\"Hello World\")"
   ]
  },
  {
   "cell_type": "code",
   "execution_count": 2,
   "id": "6d169001-0f13-47a3-8492-a335cc57ef4d",
   "metadata": {},
   "outputs": [],
   "source": [
    "list_1 = [1,2,3,4,5,6,7,8,9]"
   ]
  },
  {
   "cell_type": "code",
   "execution_count": 3,
   "id": "bdac74cf-24df-4ce8-8749-8bdf27ae47ea",
   "metadata": {},
   "outputs": [
    {
     "data": {
      "text/plain": [
       "[1, 2, 3, 4, 5, 6, 7, 8, 9]"
      ]
     },
     "execution_count": 3,
     "metadata": {},
     "output_type": "execute_result"
    }
   ],
   "source": [
    "list_1"
   ]
  },
  {
   "cell_type": "code",
   "execution_count": 4,
   "id": "52654bf7-cbfb-4a50-886d-62fe909cdc4f",
   "metadata": {},
   "outputs": [
    {
     "data": {
      "text/plain": [
       "list"
      ]
     },
     "execution_count": 4,
     "metadata": {},
     "output_type": "execute_result"
    }
   ],
   "source": [
    "type(list_1)"
   ]
  },
  {
   "cell_type": "code",
   "execution_count": 6,
   "id": "708163c2-f772-4fdf-9c9a-636bda1624cc",
   "metadata": {},
   "outputs": [
    {
     "data": {
      "text/plain": [
       "6"
      ]
     },
     "execution_count": 6,
     "metadata": {},
     "output_type": "execute_result"
    }
   ],
   "source": [
    "list_1[5]"
   ]
  },
  {
   "cell_type": "code",
   "execution_count": 8,
   "id": "6407a030-7ea4-410f-be35-9ec7b6d923af",
   "metadata": {},
   "outputs": [
    {
     "data": {
      "text/plain": [
       "9"
      ]
     },
     "execution_count": 8,
     "metadata": {},
     "output_type": "execute_result"
    }
   ],
   "source": [
    "list_1[-1]"
   ]
  },
  {
   "cell_type": "code",
   "execution_count": 9,
   "id": "3faedf69-83e5-4d3c-ac1d-766b5d3c0df9",
   "metadata": {},
   "outputs": [
    {
     "data": {
      "text/plain": [
       "7"
      ]
     },
     "execution_count": 9,
     "metadata": {},
     "output_type": "execute_result"
    }
   ],
   "source": [
    "list_1[-3]"
   ]
  },
  {
   "cell_type": "code",
   "execution_count": 10,
   "id": "6c4970fc-413f-4eb5-b39f-355361e3ff0e",
   "metadata": {},
   "outputs": [
    {
     "data": {
      "text/plain": [
       "[6, 7, 8]"
      ]
     },
     "execution_count": 10,
     "metadata": {},
     "output_type": "execute_result"
    }
   ],
   "source": [
    "list_1[5:8]"
   ]
  },
  {
   "cell_type": "code",
   "execution_count": 11,
   "id": "5c664f93-9811-4fd2-bf6c-04237c99807e",
   "metadata": {},
   "outputs": [
    {
     "data": {
      "text/plain": [
       "[1, 2, 3, 4, 5, 6]"
      ]
     },
     "execution_count": 11,
     "metadata": {},
     "output_type": "execute_result"
    }
   ],
   "source": [
    "list_1[:6]"
   ]
  },
  {
   "cell_type": "code",
   "execution_count": 12,
   "id": "c0b392cb-6154-459d-8a43-2e4dbcf11b00",
   "metadata": {},
   "outputs": [
    {
     "data": {
      "text/plain": [
       "[1, 2, 3, 4, 5]"
      ]
     },
     "execution_count": 12,
     "metadata": {},
     "output_type": "execute_result"
    }
   ],
   "source": [
    "list_1[0:5]"
   ]
  },
  {
   "cell_type": "code",
   "execution_count": 13,
   "id": "7b36a6c2-a7ff-4655-93a3-164e6bc5e426",
   "metadata": {},
   "outputs": [
    {
     "data": {
      "text/plain": [
       "[6, 7, 8, 9]"
      ]
     },
     "execution_count": 13,
     "metadata": {},
     "output_type": "execute_result"
    }
   ],
   "source": [
    "list_1[5:]"
   ]
  },
  {
   "cell_type": "code",
   "execution_count": 14,
   "id": "f73b2b3d-45d4-4118-87d1-004ff2b367cb",
   "metadata": {},
   "outputs": [],
   "source": [
    "list_1 = [1,2,3,4,5]\n",
    "list_2 = [6,7,8,9,10]"
   ]
  },
  {
   "cell_type": "code",
   "execution_count": 15,
   "id": "ccbac615-3545-48d8-b4a6-6a636f819bc4",
   "metadata": {},
   "outputs": [
    {
     "data": {
      "text/plain": [
       "[1, 2, 3, 4, 5, 6, 7, 8, 9, 10]"
      ]
     },
     "execution_count": 15,
     "metadata": {},
     "output_type": "execute_result"
    }
   ],
   "source": [
    "list_1 + list_2"
   ]
  },
  {
   "cell_type": "code",
   "execution_count": 17,
   "id": "efa69ad1-1e75-4f6b-bafb-792052b21cda",
   "metadata": {},
   "outputs": [
    {
     "data": {
      "text/plain": [
       "[6,\n",
       " 7,\n",
       " 8,\n",
       " 9,\n",
       " 10,\n",
       " 6,\n",
       " 7,\n",
       " 8,\n",
       " 9,\n",
       " 10,\n",
       " 6,\n",
       " 7,\n",
       " 8,\n",
       " 9,\n",
       " 10,\n",
       " 6,\n",
       " 7,\n",
       " 8,\n",
       " 9,\n",
       " 10,\n",
       " 6,\n",
       " 7,\n",
       " 8,\n",
       " 9,\n",
       " 10]"
      ]
     },
     "execution_count": 17,
     "metadata": {},
     "output_type": "execute_result"
    }
   ],
   "source": [
    "list_2 * 5"
   ]
  },
  {
   "cell_type": "code",
   "execution_count": 18,
   "id": "6c43c35d-2a42-4c3a-bee4-8d04a27d4517",
   "metadata": {},
   "outputs": [],
   "source": [
    "list_1 = [1,2,3,45,6,7,'shivam',25.666,[1,[2,4,4,5],3],[3,4,5,6]]"
   ]
  },
  {
   "cell_type": "code",
   "execution_count": 20,
   "id": "6ddef6ac-1fb5-4c8d-8466-9523c988b408",
   "metadata": {},
   "outputs": [
    {
     "data": {
      "text/plain": [
       "5"
      ]
     },
     "execution_count": 20,
     "metadata": {},
     "output_type": "execute_result"
    }
   ],
   "source": [
    "list_1[-1][2]"
   ]
  },
  {
   "cell_type": "code",
   "execution_count": 22,
   "id": "2ddf75f0-6c63-49d9-b0c8-5a91962538aa",
   "metadata": {},
   "outputs": [
    {
     "data": {
      "text/plain": [
       "[1, 2, 3, 45, 6, 7, 'shivam', 25.666, [1, [2, 4, 4, 5], 3], [3, 4, 5, 6], 5, 5]"
      ]
     },
     "execution_count": 22,
     "metadata": {},
     "output_type": "execute_result"
    }
   ],
   "source": [
    "list_1.append(5)\n",
    "list_1"
   ]
  },
  {
   "cell_type": "code",
   "execution_count": 23,
   "id": "f27cc11a-67f8-41e4-818f-9080307755b7",
   "metadata": {},
   "outputs": [],
   "source": [
    "list_1.insert(4,5)"
   ]
  },
  {
   "cell_type": "code",
   "execution_count": 24,
   "id": "8b53a0ae-b2d1-4335-ab7d-1db35752396d",
   "metadata": {},
   "outputs": [
    {
     "data": {
      "text/plain": [
       "[1,\n",
       " 2,\n",
       " 3,\n",
       " 45,\n",
       " 5,\n",
       " 6,\n",
       " 7,\n",
       " 'shivam',\n",
       " 25.666,\n",
       " [1, [2, 4, 4, 5], 3],\n",
       " [3, 4, 5, 6],\n",
       " 5,\n",
       " 5]"
      ]
     },
     "execution_count": 24,
     "metadata": {},
     "output_type": "execute_result"
    }
   ],
   "source": [
    "list_1"
   ]
  },
  {
   "cell_type": "code",
   "execution_count": 25,
   "id": "7305173b-d330-4a8c-9513-bdc6afd560df",
   "metadata": {},
   "outputs": [
    {
     "data": {
      "text/plain": [
       "13"
      ]
     },
     "execution_count": 25,
     "metadata": {},
     "output_type": "execute_result"
    }
   ],
   "source": [
    "len(list_1)"
   ]
  },
  {
   "cell_type": "code",
   "execution_count": 30,
   "id": "0f016bfa-37fc-4511-be64-6b5bc2453ab6",
   "metadata": {},
   "outputs": [
    {
     "data": {
      "text/plain": [
       "1"
      ]
     },
     "execution_count": 30,
     "metadata": {},
     "output_type": "execute_result"
    }
   ],
   "source": [
    "list_3 = [1,2,3,4,2,5]\n",
    "min(list_3)"
   ]
  },
  {
   "cell_type": "code",
   "execution_count": 28,
   "id": "eb0b448f-19cf-4f12-84a8-a6b653f44905",
   "metadata": {},
   "outputs": [
    {
     "data": {
      "text/plain": [
       "5"
      ]
     },
     "execution_count": 28,
     "metadata": {},
     "output_type": "execute_result"
    }
   ],
   "source": [
    "max(list_3)"
   ]
  },
  {
   "cell_type": "code",
   "execution_count": 31,
   "id": "ec350368-6db1-4885-9018-d59c00cbcf40",
   "metadata": {},
   "outputs": [
    {
     "data": {
      "text/plain": [
       "2"
      ]
     },
     "execution_count": 31,
     "metadata": {},
     "output_type": "execute_result"
    }
   ],
   "source": [
    "list_3.count(2)"
   ]
  },
  {
   "cell_type": "code",
   "execution_count": 32,
   "id": "cd00085d-3756-4307-a25f-a34c1bb4f707",
   "metadata": {},
   "outputs": [
    {
     "ename": "TypeError",
     "evalue": "can only concatenate list (not \"int\") to list",
     "output_type": "error",
     "traceback": [
      "\u001b[1;31m---------------------------------------------------------------------------\u001b[0m",
      "\u001b[1;31mTypeError\u001b[0m                                 Traceback (most recent call last)",
      "Cell \u001b[1;32mIn[32], line 1\u001b[0m\n\u001b[1;32m----> 1\u001b[0m list_3 \u001b[38;5;241m=\u001b[39m \u001b[43mlist_3\u001b[49m\u001b[38;5;241;43m+\u001b[39;49m\u001b[38;5;241;43m100\u001b[39;49m\n",
      "\u001b[1;31mTypeError\u001b[0m: can only concatenate list (not \"int\") to list"
     ]
    }
   ],
   "source": [
    "list_3 = list_3+100"
   ]
  },
  {
   "cell_type": "code",
   "execution_count": 43,
   "id": "114070e1-3bc1-4c6e-a705-233b92d0966e",
   "metadata": {},
   "outputs": [
    {
     "name": "stdout",
     "output_type": "stream",
     "text": [
      "[1, 36, 6, -39, 51]\n"
     ]
    }
   ],
   "source": [
    "a = [1,2,38,44,5,56]\n",
    "b = []\n",
    "for i in range(len(a)-1):\n",
    "    c = a[i+1]-a[i]\n",
    "    b.append(c)\n",
    "print(b)"
   ]
  },
  {
   "cell_type": "code",
   "execution_count": 38,
   "id": "371b9745-fdba-4a0e-b2ce-24399807528a",
   "metadata": {},
   "outputs": [
    {
     "data": {
      "text/plain": [
       "[1, 2, 38, 44, 5, 56]"
      ]
     },
     "execution_count": 38,
     "metadata": {},
     "output_type": "execute_result"
    }
   ],
   "source": [
    "a"
   ]
  },
  {
   "cell_type": "code",
   "execution_count": 45,
   "id": "cc3537d3-5192-49f0-a545-4fa849bd9368",
   "metadata": {},
   "outputs": [
    {
     "data": {
      "text/plain": [
       "(1, 2, 3)"
      ]
     },
     "execution_count": 45,
     "metadata": {},
     "output_type": "execute_result"
    }
   ],
   "source": [
    "tpl_1 = (1,2,3)\n",
    "tpl_1\n",
    "    "
   ]
  },
  {
   "cell_type": "code",
   "execution_count": 46,
   "id": "b31dd674-05f3-413d-bdc5-d7c8c6c95c24",
   "metadata": {},
   "outputs": [
    {
     "data": {
      "text/plain": [
       "1"
      ]
     },
     "execution_count": 46,
     "metadata": {},
     "output_type": "execute_result"
    }
   ],
   "source": [
    "tpl_1[0]"
   ]
  },
  {
   "cell_type": "code",
   "execution_count": 47,
   "id": "b1a0866d-c16f-488c-9e46-02cf730af77c",
   "metadata": {},
   "outputs": [
    {
     "data": {
      "text/plain": [
       "2"
      ]
     },
     "execution_count": 47,
     "metadata": {},
     "output_type": "execute_result"
    }
   ],
   "source": [
    "tpl_1[1]"
   ]
  },
  {
   "cell_type": "code",
   "execution_count": null,
   "id": "c7de4628-5817-4468-8a47-f9870dc8f16b",
   "metadata": {},
   "outputs": [],
   "source": []
  }
 ],
 "metadata": {
  "kernelspec": {
   "display_name": "Python 3 (ipykernel)",
   "language": "python",
   "name": "python3"
  },
  "language_info": {
   "codemirror_mode": {
    "name": "ipython",
    "version": 3
   },
   "file_extension": ".py",
   "mimetype": "text/x-python",
   "name": "python",
   "nbconvert_exporter": "python",
   "pygments_lexer": "ipython3",
   "version": "3.12.0"
  }
 },
 "nbformat": 4,
 "nbformat_minor": 5
}
